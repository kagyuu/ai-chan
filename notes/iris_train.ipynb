{
 "cells": [
  {
   "cell_type": "code",
   "execution_count": 2,
   "metadata": {
    "collapsed": true
   },
   "outputs": [],
   "source": [
    "import numpy as np\n",
    "from matplotlib import pyplot as plt\n",
    "from sklearn import datasets\n",
    "\n",
    "import sys,os\n",
    "sys.path.append(os.pardir)  # 親ディレクトリのファイルをインポートするための設定\n",
    "from ai_chan import nnet\n",
    "from ai_chan import layer\n",
    "from ai_chan import util\n",
    "from ai_chan import grad\n",
    "from ai_chan import weight\n",
    "from ai_chan import train"
   ]
  },
  {
   "cell_type": "code",
   "execution_count": 3,
   "metadata": {},
   "outputs": [],
   "source": [
    "# データセットのロード\n",
    "# iris.data = [(がく片の長さ , がく片の幅 , 花びらの長さ , 花びらの幅)]\n",
    "iris = datasets.load_iris()\n",
    "# データをシャッフルする (ミソ!)\n",
    "np.random.shuffle(iris.data)\n",
    "x_vals = np.array([x[0:3] for x in iris.data])\n",
    "d_vals = np.array([x[3] for x in iris.data])"
   ]
  },
  {
   "cell_type": "code",
   "execution_count": 4,
   "metadata": {},
   "outputs": [],
   "source": [
    "net = nnet.SimpleNet()\n",
    "\n",
    "# 入力データを(初期状態で)標準化スコアに変換する前処理層\n",
    "net.add_pre_layer(layer.Normalize(), x=x_vals.T, y=d_vals.T)\n",
    "\n",
    "# 中間層は 3,40\n",
    "net.add_mid_layer(3, 40)\n",
    "\n",
    "# 出力層は1つの値を出力\n",
    "net.add_out_layer(1)\n",
    "\n",
    "# 学習係数は 0.001固定 (呼び出し回数で減衰させるとうまく収束しない)\n",
    "# net.set_learning_rate(grad.Shrink(rate=0.01))\n",
    "\n",
    "# 正則化（重み減衰)\n",
    "# net.set_weight_decay(weight.L1Decay())\n",
    "net.set_weight_decay(weight.L2Decay())\n",
    "# net.set_weight_decay(weight.LmaxDecay())"
   ]
  },
  {
   "cell_type": "code",
   "execution_count": 5,
   "metadata": {},
   "outputs": [
    {
     "data": {
      "text/plain": [
       "0.04133767359726715"
      ]
     },
     "execution_count": 5,
     "metadata": {},
     "output_type": "execute_result"
    }
   ],
   "source": [
    "trainer = train.NetTrainer(net, x_vals.T, d_vals.T)\n",
    "\n",
    "trainer.train(10000)"
   ]
  },
  {
   "cell_type": "code",
   "execution_count": 6,
   "metadata": {},
   "outputs": [
    {
     "data": {
      "image/png": "[encoded data removed]",
      "text/plain": [
       "<Figure size 432x288 with 1 Axes>"
      ]
     },
     "metadata": {},
     "output_type": "display_data"
    }
   ],
   "source": [
    "plt.figure()\n",
    "plt.title(\"誤差の推移\")\n",
    "plt.xlabel(\"学習回数\")\n",
    "plt.ylabel(\"予測値と教師値の誤差(二乗平均)\")\n",
    "\n",
    "plt.yscale(\"log\")\n",
    "plt.plot(trainer.tx, trainer.te, color='blue', label='訓練誤差')\n",
    "plt.plot(trainer.gx, trainer.ge, color='red', label='汎化誤差')\n",
    "plt.legend()\n",
    "plt.show()"
   ]
  },
  {
   "cell_type": "code",
   "execution_count": null,
   "metadata": {},
   "outputs": [],
   "source": [
    "d_train, y_train, d_eval, y_eval = trainer.eval()\n",
    "\n",
    "plt.figure()\n",
    "plt.title(\"学習後の予測値\")\n",
    "plt.xlabel(\"教師値\")\n",
    "plt.ylabel(\"予測値\")\n",
    "plt.xlim(0.0, max(4.0, np.max(d_train), np.max(d_eval)))\n",
    "plt.ylim(0.0, max(4.0, np.max(y_train), np.max(y_eval)))\n",
    "\n",
    "for dataset in range(0, len(d_train)):\n",
    "    plt.scatter(d_train[dataset].T, y_train[dataset].T, marker=\"s\", label=\"訓練データ {}\".format(dataset+1))\n",
    "\n",
    "plt.scatter(d_eval.T, y_eval.T, marker=\"s\", label=\"評価データ\")\n",
    "\n",
    "x = np.arange(-10,10,0.1)\n",
    "plt.plot(x, x, color=\"gray\")\n",
    "plt.legend()\n",
    "plt.show()\n",
    "\n",
    "\n"
   ]
  }
 ],
 "metadata": {
  "kernelspec": {
   "display_name": "Python 2",
   "language": "python",
   "name": "python2"
  },
  "language_info": {
   "codemirror_mode": {
    "name": "ipython",
    "version": 2
   },
   "file_extension": ".py",
   "mimetype": "text/x-python",
   "name": "python",
   "nbconvert_exporter": "python",
   "pygments_lexer": "ipython2",
   "version": "2.7.6"
  }
 },
 "nbformat": 4,
 "nbformat_minor": 0
}
