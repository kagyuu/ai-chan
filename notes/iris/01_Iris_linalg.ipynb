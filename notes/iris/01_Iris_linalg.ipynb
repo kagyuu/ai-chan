{
 "cells": [
  {
   "cell_type": "markdown",
   "metadata": {},
   "source": [
    "# Iris 線形回帰分析版\n",
    "* 機械学習ではなく線形回帰分析で、がく片の長さ、がく片の幅、花びらの長さから花びらの幅を予想する\n",
    "* これより悪いようだと機械学習の意味がない"
   ]
  },
  {
   "cell_type": "code",
   "execution_count": 2,
   "metadata": {},
   "outputs": [
    {
     "name": "stdout",
     "output_type": "stream",
     "text": [
      "A=(150, 4)\nB=(150,)\nC=[-0.21027133  0.22877721  0.52608818 -0.24872359]\nresid=5.3761663717667565\nrank=4\nsigma=[95.35786341 16.74839883  3.02443688  1.05915214]\n"
     ]
    },
    {
     "data": {
      "image/png": "[encoded data removed]",
      "text/plain": [
       "<Figure size 432x288 with 1 Axes>"
      ]
     },
     "metadata": {},
     "output_type": "display_data"
    }
   ],
   "source": [
    "import numpy as np\n",
    "from scipy import linalg\n",
    "from sklearn import datasets\n",
    "from matplotlib import pyplot as plt\n",
    "\n",
    "# データセットのロード\n",
    "# iris.data = [(がく片の長さ , がく片の幅 , 花びらの長さ , 花びらの幅)]\n",
    "iris = datasets.load_iris()\n",
    "\n",
    "# 入力データにbias(常に１）に相当する 4 列目を加える\n",
    "A = np.array([x[0:3] for x in iris.data])\n",
    "A = np.hstack((A, np.ones((A.shape[0],1))))\n",
    "B = np.array([x[3] for x in iris.data])\n",
    "\n",
    "# input matrix\n",
    "print (\"A={}\".format(A.shape))\n",
    "print (\"B={}\".format(B.shape))\n",
    "\n",
    "# least squares\n",
    "C, resid, rank, sigma = linalg.lstsq(A, B)\n",
    "print (\"C={}\".format(C))\n",
    "print (\"resid={}\".format(resid))\n",
    "print (\"rank={}\".format(rank))\n",
    "print (\"sigma={}\".format(sigma))\n",
    "\n",
    "plt.figure()\n",
    "for idx in range(0, len(B)):\n",
    "    x = B[idx]\n",
    "    y = A[idx][0] * C[0] + A[idx][1] * C[1] + A[idx][2] * C[2] + A[idx][3] * C[3]\n",
    "    plt.scatter(x, y, color='pink', marker='s', label='data set')\n",
    "\n",
    "x = np.arange(0, 2.5, 0.1)\n",
    "plt.plot(x, x, color=\"gray\")\n",
    "\n",
    "plt.show()"
   ]
  },
  {
   "cell_type": "code",
   "execution_count": null,
   "metadata": {},
   "outputs": [],
   "source": []
  }
 ],
 "metadata": {
  "kernelspec": {
   "display_name": "Python 3",
   "language": "python",
   "name": "python3"
  },
  "language_info": {
   "codemirror_mode": {
    "name": "ipython",
    "version": 3
   },
   "file_extension": ".py",
   "mimetype": "text/x-python",
   "name": "python",
   "nbconvert_exporter": "python",
   "pygments_lexer": "ipython3",
   "version": "3.6.5"
  }
 },
 "nbformat": 4,
 "nbformat_minor": 2
}
