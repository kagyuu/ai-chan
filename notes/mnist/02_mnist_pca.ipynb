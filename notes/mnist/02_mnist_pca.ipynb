{
 "cells": [
  {
   "cell_type": "markdown",
   "metadata": {
    "collapsed": true
   },
   "source": [
    "# MNIST の主成分分析"
   ]
  },
  {
   "cell_type": "markdown",
   "metadata": {},
   "source": [
    "# 主成分分析について\n",
    "\n",
    "* 通常のデータの主成分分析は、データ全体をより分散が大きくなるように新たな軸を設定する → データの特徴がよりはっきりと分かるようになる\n",
    "* 下記の例では、(x,y) 座標系のデータを (p,q)座標系 (赤軸・青軸) に写像する"
   ]
  },
  {
   "cell_type": "code",
   "execution_count": 30,
   "metadata": {},
   "outputs": [
    {
     "name": "stdout",
     "output_type": "stream",
     "text": [
      "主成分 (=固有ベクトル)\n[[ 0.52735353  0.84964596]\n [ 0.84964596 -0.52735353]]\n平均\n[3.5        3.83333333]\n寄与度\n[0.87315546 0.12684454]\n累積寄与度\n[0.87315546 1.        ]\n"
     ]
    },
    {
     "data": {
      "image/png": "[encoded data removed]",
      "text/plain": [
       "<Figure size 432x288 with 1 Axes>"
      ]
     },
     "metadata": {},
     "output_type": "display_data"
    }
   ],
   "source": [
    "from sklearn.decomposition import PCA\n",
    "from matplotlib import pyplot as plt\n",
    "import numpy as np\n",
    "\n",
    "data = np.array([\n",
    "    [1,3],\n",
    "    [2,1],\n",
    "    [3,2],\n",
    "    [4,6],\n",
    "    [5,3],\n",
    "    [6,8]\n",
    "])\n",
    "\n",
    "pca = PCA()\n",
    "pca.fit(data)\n",
    "\n",
    "print(\"主成分 (=固有ベクトル)\")\n",
    "print(pca.components_)\n",
    "print(\"平均\")\n",
    "print(pca.mean_)\n",
    "print(\"寄与度\")\n",
    "print(pca.explained_variance_ratio_)\n",
    "print(\"累積寄与度\")\n",
    "print(np.cumsum(pca.explained_variance_ratio_))\n",
    "\n",
    "plt.figure()\n",
    "plt.axis('equal')\n",
    "plt.xlim(0.0, 10.0)\n",
    "plt.ylim(0.0, 10.0)\n",
    "plt.xlabel('x')\n",
    "plt.ylabel('y')\n",
    "plt.grid(color='gray')\n",
    "\n",
    "x = data[:,0]\n",
    "y = data[:,1]\n",
    "plt.scatter(x, y, color='gray', marker='s', label='data set')\n",
    "\n",
    "x = np.arange(-10.0,10.0,0.1)\n",
    "d1 = pca.components_[0][1] / pca.components_[0][0]\n",
    "plt.plot(x, d1 * (x - pca.mean_[0] ) + pca.mean_[1], color=\"red\")\n",
    "\n",
    "d2 = pca.components_[1][1] / pca.components_[1][0]\n",
    "plt.plot(x, d2 * (x - pca.mean_[0] ) + pca.mean_[1], color=\"blue\")\n",
    "plt.show()        \n"
   ]
  },
  {
   "cell_type": "code",
   "execution_count": 29,
   "metadata": {},
   "outputs": [
    {
     "data": {
      "image/png": "[encoded data removed]",
      "text/plain": [
       "<Figure size 432x288 with 1 Axes>"
      ]
     },
     "metadata": {},
     "output_type": "display_data"
    }
   ],
   "source": [
    "transformed_data = pca.transform(data)\n",
    "\n",
    "plt.figure()\n",
    "#plt.axis('equal')\n",
    "plt.xlim(-10.0, 10.0)\n",
    "plt.ylim(-5.0, 5.0)\n",
    "plt.xlabel('p')\n",
    "plt.ylabel('q')\n",
    "plt.grid(color='gray')\n",
    "\n",
    "x = transformed_data[:,0]\n",
    "y = transformed_data[:,1]\n",
    "plt.scatter(x, y, color='gray', marker='s', label='data set')\n",
    "\n",
    "x = np.arange(-10.0,10.0,0.1)\n",
    "y = np.zeros_like(x)\n",
    "plt.plot(x, y, color=\"red\")\n",
    "plt.plot(y, x, color=\"blue\")\n",
    "\n",
    "plt.show() "
   ]
  },
  {
   "cell_type": "code",
   "execution_count": null,
   "metadata": {},
   "outputs": [],
   "source": []
  }
 ],
 "metadata": {
  "kernelspec": {
   "display_name": "Python 2",
   "language": "python",
   "name": "python2"
  },
  "language_info": {
   "codemirror_mode": {
    "name": "ipython",
    "version": 2
   },
   "file_extension": ".py",
   "mimetype": "text/x-python",
   "name": "python",
   "nbconvert_exporter": "python",
   "pygments_lexer": "ipython2",
   "version": "2.7.6"
  }
 },
 "nbformat": 4,
 "nbformat_minor": 0
}
