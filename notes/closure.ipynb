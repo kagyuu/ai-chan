{
 "cells": [
  {
   "cell_type": "markdown",
   "metadata": {},
   "source": [
    "# クロージャーの実装サンプル\n",
    "* 状態を持つ関数\n",
    "* 関数(func)を返す関数(fn_factory)を作る\n",
    "    * fn_factory スコープの変数を func から参照することで、関数が状態を持つことができる\n",
    "    * グローバルスコープの fn1, fn2 が func objcet を持っていて、func object が count を持っている\n",
    "* 同じことは Class でもできる\n",
    "    * Class は、モノの状態を管理することが主体で、モノの状態を変えるために操作インタフェースを持っている\n",
    "    * Closure は、処理が主体で、処理のために内部状態を持っている\n",
    "* 機械学習の処理を記述する場合、まさに処理が主体なんだから、Closure を使ったほうが書きやすいだろう"
   ]
  },
  {
   "cell_type": "code",
   "execution_count": 1,
   "metadata": {},
   "outputs": [],
   "source": [
    "def fn_factory():\n",
    "    count = 0\n",
    "    \n",
    "    def func():\n",
    "        nonlocal count\n",
    "        count += 1\n",
    "        return count\n",
    "    \n",
    "    return func\n"
   ]
  },
  {
   "cell_type": "code",
   "execution_count": 2,
   "metadata": {},
   "outputs": [
    {
     "name": "stdout",
     "output_type": "stream",
     "text": [
      "1\n",
      "2\n",
      "3\n"
     ]
    }
   ],
   "source": [
    "fn1 = fn_factory()\n",
    "\n",
    "print(fn1())\n",
    "print(fn1())\n",
    "print(fn1())\n"
   ]
  },
  {
   "cell_type": "code",
   "execution_count": 3,
   "metadata": {},
   "outputs": [
    {
     "name": "stdout",
     "output_type": "stream",
     "text": [
      "1\n",
      "2\n",
      "3\n"
     ]
    }
   ],
   "source": [
    "fn2 = fn_factory()\n",
    "\n",
    "print(fn2())\n",
    "print(fn2())\n",
    "print(fn2())\n"
   ]
  }
 ],
 "metadata": {
  "kernelspec": {
   "display_name": "Python 3",
   "language": "python",
   "name": "python3"
  },
  "language_info": {
   "codemirror_mode": {
    "name": "ipython",
    "version": 3
   },
   "file_extension": ".py",
   "mimetype": "text/x-python",
   "name": "python",
   "nbconvert_exporter": "python",
   "pygments_lexer": "ipython3",
   "version": "3.6.5"
  }
 },
 "nbformat": 4,
 "nbformat_minor": 1
}
