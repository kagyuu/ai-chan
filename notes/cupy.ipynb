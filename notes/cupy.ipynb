{
 "cells": [
  {
   "cell_type": "markdown",
   "metadata": {
    "collapsed": true
   },
   "source": [
    "# CuPy について\n",
    "* CuPy は、外部インタフェースが NumPy 互換で、内部的に GPU (Cuda) を使っている。\n",
    "* macOS Sierra 以降では DYLD_LIBRARY_PATH の上書きができなくなったので、Cuda 関連のライブラリを ~/lib などにシンボリックリンクを貼る必要がある\n",
    "    * /Developer/NVIDIA/CUDA-9.1/lib/ 以下のファイルのシンボリックリンクを ~/lib につくる  \n",
    "    * 他にも $(HOME)/lib:/usr/local/lib/:/lib/:/usr/lib あたりにシンボリックリンクを作っても良い"
   ]
  },
  {
   "cell_type": "code",
   "execution_count": 2,
   "metadata": {},
   "outputs": [
    {
     "name": "stdout",
     "output_type": "stream",
     "text": [
      "[ 7  9 11 13 15]\n"
     ]
    }
   ],
   "source": [
    "import cupy as cp\n",
    "import numpy as np\n",
    "a = cp.array([1,2,3,4,5])\n",
    "b = cp.array([6,7,8,9,10])\n",
    "c = a + b\n",
    "print (c)"
   ]
  },
  {
   "cell_type": "code",
   "execution_count": 3,
   "metadata": {},
   "outputs": [
    {
     "name": "stdout",
     "output_type": "stream",
     "text": [
      "[[ 30  24  18]\n [ 84  69  54]\n [138 114  90]]\n"
     ]
    }
   ],
   "source": [
    "d = cp.array([\n",
    "    [1,2,3],\n",
    "    [4,5,6],\n",
    "    [7,8,9]\n",
    "])\n",
    "e = cp.array([\n",
    "    [9,8,7],\n",
    "    [6,5,4],\n",
    "    [3,2,1]\n",
    "])\n",
    "f = cp.dot(d,e)\n",
    "print(f)"
   ]
  },
  {
   "cell_type": "markdown",
   "metadata": {},
   "source": [
    "# Python の list に格納した cupy.ndarray 同士で計算を行う"
   ]
  },
  {
   "cell_type": "code",
   "execution_count": 4,
   "metadata": {},
   "outputs": [
    {
     "name": "stdout",
     "output_type": "stream",
     "text": [
      "[ 20  40  60  80 100]\n[11 22 33 44 55]\n[12 23 34 45 56]\n[13 24 35 46 57]\n[14 25 36 47 58]\n"
     ]
    }
   ],
   "source": [
    "args = []\n",
    "rets = []\n",
    "\n",
    "args.append(cp.array([10,20,30,40,50]))\n",
    "args.append(cp.array([1,2,3,4,5]))\n",
    "args.append(cp.array([2,3,4,5,6]))\n",
    "args.append(cp.array([3,4,5,6,7]))\n",
    "args.append(cp.array([4,5,6,7,8]))\n",
    "\n",
    "rets.append(args[0] + args[0])\n",
    "rets.append(args[0] + args[1])\n",
    "rets.append(args[0] + args[2])\n",
    "rets.append(args[0] + args[3])\n",
    "rets.append(args[0] + args[4])\n",
    "\n",
    "print(rets[0].get())\n",
    "print(rets[1].get())\n",
    "print(rets[2].get())\n",
    "print(rets[3].get())\n",
    "print(rets[4].get())\n"
   ]
  },
  {
   "cell_type": "markdown",
   "metadata": {},
   "source": [
    "# numpy, cupy 両対応のコード"
   ]
  },
  {
   "cell_type": "markdown",
   "metadata": {},
   "source": []
  },
  {
   "cell_type": "code",
   "execution_count": 5,
   "metadata": {
    "collapsed": true
   },
   "outputs": [
    {
     "name": "stdout",
     "output_type": "stream",
     "text": [
      "[[19 22]\n [43 50]]\n[[19. 22.]\n [43. 50.]]\n"
     ]
    }
   ],
   "source": [
    "def calc(x, y):\n",
    "    xp = cp.get_array_module(x)\n",
    "    return xp.dot(x, y)\n",
    "\n",
    "x_cpu = np.array([[1,2],[3,4]])\n",
    "y_cpu = np.array([[5,6],[7,8]])\n",
    "print(calc(x_cpu, y_cpu))\n",
    "\n",
    "x_gpu = cp.asanyarray(x_cpu, dtype='float32')\n",
    "y_gpu = cp.asanyarray(y_cpu, dtype='float32')\n",
    "print(calc(x_gpu, y_gpu).get())\n"
   ]
  },
  {
   "cell_type": "code",
   "execution_count": null,
   "metadata": {},
   "outputs": [],
   "source": []
  }
 ],
 "metadata": {
  "kernelspec": {
   "display_name": "Python 3",
   "language": "python",
   "name": "python3"
  },
  "language_info": {
   "codemirror_mode": {
    "name": "ipython",
    "version": 3
   },
   "file_extension": ".py",
   "mimetype": "text/x-python",
   "name": "python",
   "nbconvert_exporter": "python",
   "pygments_lexer": "ipython3",
   "version": "3.6.5"
  }
 },
 "nbformat": 4,
 "nbformat_minor": 1
}
