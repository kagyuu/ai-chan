{
 "cells": [
  {
   "cell_type": "markdown",
   "metadata": {
    "collapsed": true
   },
   "source": [
    "# CuPy について\n",
    "* CuPy は、外部インタフェースが NumPy 互換で、内部的に GPU (Cuda) を使っている。\n",
    "* macOS Sierra 以降では DYLD_LIBRARY_PATH の上書きができなくなったので、Cuda 関連のライブラリを ~/lib などにシンボリックリンクを貼る必要がある\n",
    "    * /Developer/NVIDIA/CUDA-9.1/lib/ 以下のファイルのシンボリックリンクを ~/lib につくる  \n",
    "    * 他にも $(HOME)/lib:/usr/local/lib/:/lib/:/usr/lib あたりにシンボリックリンクを作っても良い"
   ]
  },
  {
   "cell_type": "code",
   "execution_count": 2,
   "metadata": {},
   "outputs": [
    {
     "name": "stdout",
     "output_type": "stream",
     "text": [
      "[ 7  9 11 13 15]\n"
     ]
    }
   ],
   "source": [
    "import cupy as cp\n",
    "import numpy as np\n",
    "a = cp.array([1,2,3,4,5])\n",
    "b = cp.array([6,7,8,9,10])\n",
    "c = a + b\n",
    "print (c)"
   ]
  },
  {
   "cell_type": "code",
   "execution_count": 2,
   "metadata": {},
   "outputs": [
    {
     "name": "stdout",
     "output_type": "stream",
     "text": [
      "[[ 30  24  18]\n [ 84  69  54]\n [138 114  90]]\n"
     ]
    }
   ],
   "source": [
    "d = cp.array([\n",
    "    [1,2,3],\n",
    "    [4,5,6],\n",
    "    [7,8,9]\n",
    "])\n",
    "e = cp.array([\n",
    "    [9,8,7],\n",
    "    [6,5,4],\n",
    "    [3,2,1]\n",
    "])\n",
    "f = cp.dot(d,e)\n",
    "print(f)"
   ]
  },
  {
   "cell_type": "code",
   "execution_count": 3,
   "metadata": {},
   "outputs": [
    {
     "name": "stdout",
     "output_type": "stream",
     "text": [
      "[[ 2.5]\n [ 6.5]\n [10.5]]\n"
     ]
    }
   ],
   "source": [
    "m = cp.array([\n",
    "    [1,2,3,4],\n",
    "    [5,6,7,8],\n",
    "    [9,10,11,12]\n",
    "])\n",
    "# I was so foolish to use following sentence:\n",
    "# '''\n",
    "# avr = cp.mean(m, axis=1).reshape(1,m.shape[0]).T\n",
    "# '''\n",
    "\n",
    "# Now I know keepidms option:\n",
    "avr = cp.mean(m, axis=1, keepdims=True)\n",
    "\n",
    "#print(type(avr))\n",
    "print(avr.get())"
   ]
  },
  {
   "cell_type": "markdown",
   "metadata": {},
   "source": [
    "# Python の list に格納した cupy.ndarray 同士で計算を行う"
   ]
  },
  {
   "cell_type": "code",
   "execution_count": 3,
   "metadata": {},
   "outputs": [
    {
     "name": "stdout",
     "output_type": "stream",
     "text": [
      "[ 20  40  60  80 100]\n[11 22 33 44 55]\n[12 23 34 45 56]\n[13 24 35 46 57]\n[14 25 36 47 58]\n"
     ]
    }
   ],
   "source": [
    "args = []\n",
    "rets = []\n",
    "\n",
    "args.append(cp.array([10,20,30,40,50]))\n",
    "args.append(cp.array([1,2,3,4,5]))\n",
    "args.append(cp.array([2,3,4,5,6]))\n",
    "args.append(cp.array([3,4,5,6,7]))\n",
    "args.append(cp.array([4,5,6,7,8]))\n",
    "\n",
    "rets.append(args[0] + args[0])\n",
    "rets.append(args[0] + args[1])\n",
    "rets.append(args[0] + args[2])\n",
    "rets.append(args[0] + args[3])\n",
    "rets.append(args[0] + args[4])\n",
    "\n",
    "print(rets[0].get())\n",
    "print(rets[1].get())\n",
    "print(rets[2].get())\n",
    "print(rets[3].get())\n",
    "print(rets[4].get())\n"
   ]
  },
  {
   "cell_type": "markdown",
   "metadata": {},
   "source": [
    "# numpy, cupy 両対応のコード"
   ]
  },
  {
   "cell_type": "markdown",
   "metadata": {},
   "source": []
  },
  {
   "cell_type": "code",
   "execution_count": 4,
   "metadata": {
    "collapsed": false
   },
   "outputs": [
    {
     "name": "stdout",
     "output_type": "stream",
     "text": [
      "[[19 22]\n [43 50]]\n[[19. 22.]\n [43. 50.]]\n"
     ]
    }
   ],
   "source": [
    "def calc(x, y):\n",
    "    xp = cp.get_array_module(x)\n",
    "    return xp.dot(x, y)\n",
    "\n",
    "\n",
    "x_cpu = np.array([[1,2],[3,4]])\n",
    "y_cpu = np.array([[5,6],[7,8]])\n",
    "print(calc(x_cpu, y_cpu))\n",
    "\n",
    "x_gpu = cp.asanyarray(x_cpu, dtype='float32')\n",
    "y_gpu = cp.asanyarray(y_cpu, dtype='float32')\n",
    "print(calc(x_gpu, y_gpu).get())\n"
   ]
  },
  {
   "cell_type": "markdown",
   "metadata": {},
   "source": [
    "# Numpy 向けに作ったクラスを Cupy に対応させる\n",
    "* やりたいこと\n",
    "    * Cupy がないマシンでは Numpy で動かしたい。ただし、動作時に自動判別をする必要はない。\n",
    "    * ベースのクラスを Numpy 向けに作る\n",
    "    * それを継承したクラスをデコレーターで Cupy 対応させる\n",
    "* まずは Numpy ベースのクラスを作る"
   ]
  },
  {
   "cell_type": "code",
   "execution_count": 5,
   "metadata": {},
   "outputs": [
    {
     "name": "stdout",
     "output_type": "stream",
     "text": [
      "add's xp is <module 'numpy' from '/Users/atsushi/.pyenv/versions/anaconda3-5.1.0/envs/jupyter-env/lib/python3.6/site-packages/numpy/__init__.py'>\nsub's xp is <module 'numpy' from '/Users/atsushi/.pyenv/versions/anaconda3-5.1.0/envs/jupyter-env/lib/python3.6/site-packages/numpy/__init__.py'>\n[0 2 4]\n"
     ]
    }
   ],
   "source": [
    "class BaseClass:\n",
    "    def __init__(self, x):\n",
    "        self.store = x\n",
    "        \n",
    "    def add(self, x, xp = np):\n",
    "        print(\"add's xp is {}\".format(xp))\n",
    "        self.store = xp.add(self.store, x)\n",
    "\n",
    "    def sub(self, x, xp = np):\n",
    "        print(\"sub's xp is {}\".format(xp))\n",
    "        self.store = xp.subtract(self.store, x)\n",
    "    \n",
    "    def log(self, msg):\n",
    "        print(msg)\n",
    "\n",
    "\n",
    "cpu = BaseClass(np.array([1,2,3]))\n",
    "cpu.add(np.array([0,0,1]))\n",
    "cpu.sub(np.array([1,0,0]))\n",
    "print(cpu.store)"
   ]
  },
  {
   "cell_type": "markdown",
   "metadata": {},
   "source": [
    "* Cupy 対応の decorator を BaseClass に適用する"
   ]
  },
  {
   "cell_type": "code",
   "execution_count": 7,
   "metadata": {
    "collapsed": true
   },
   "outputs": [
    {
     "name": "stdout",
     "output_type": "stream",
     "text": [
      "add's xp is <module 'numpy' from '/Users/atsushi/.pyenv/versions/anaconda3-5.1.0/envs/jupyter-env/lib/python3.6/site-packages/numpy/__init__.py'>\n"
     ]
    },
    {
     "ename": "AttributeError",
     "evalue": "'tuple' object has no attribute 'store'",
     "traceback": [
      "\u001b[0;31m---------------------------------------------------------------------------\u001b[0m",
      "\u001b[0;31mAttributeError\u001b[0m                            Traceback (most recent call last)",
      "\u001b[0;32m<ipython-input-7-cd778244d958>\u001b[0m in \u001b[0;36m<module>\u001b[0;34m()\u001b[0m\n\u001b[1;32m     44\u001b[0m \u001b[0;31m# 引数が numpy.ndarray の場合は numpy が使われる\u001b[0m\u001b[0;34m\u001b[0m\u001b[0;34m\u001b[0m\u001b[0m\n\u001b[1;32m     45\u001b[0m \u001b[0mcpu\u001b[0m \u001b[0;34m=\u001b[0m \u001b[0mGPUClass\u001b[0m\u001b[0;34m(\u001b[0m\u001b[0mnp\u001b[0m\u001b[0;34m.\u001b[0m\u001b[0marray\u001b[0m\u001b[0;34m(\u001b[0m\u001b[0;34m[\u001b[0m\u001b[0;36m1\u001b[0m\u001b[0;34m,\u001b[0m\u001b[0;36m2\u001b[0m\u001b[0;34m,\u001b[0m\u001b[0;36m3\u001b[0m\u001b[0;34m]\u001b[0m\u001b[0;34m)\u001b[0m\u001b[0;34m)\u001b[0m\u001b[0;34m\u001b[0m\u001b[0m\n\u001b[0;32m---> 46\u001b[0;31m \u001b[0mcpu\u001b[0m\u001b[0;34m.\u001b[0m\u001b[0madd\u001b[0m\u001b[0;34m(\u001b[0m\u001b[0mnp\u001b[0m\u001b[0;34m.\u001b[0m\u001b[0marray\u001b[0m\u001b[0;34m(\u001b[0m\u001b[0;34m[\u001b[0m\u001b[0;36m0\u001b[0m\u001b[0;34m,\u001b[0m\u001b[0;36m0\u001b[0m\u001b[0;34m,\u001b[0m\u001b[0;36m1\u001b[0m\u001b[0;34m]\u001b[0m\u001b[0;34m)\u001b[0m\u001b[0;34m)\u001b[0m\u001b[0;34m\u001b[0m\u001b[0m\n\u001b[0m\u001b[1;32m     47\u001b[0m \u001b[0mcpu\u001b[0m\u001b[0;34m.\u001b[0m\u001b[0msub\u001b[0m\u001b[0;34m(\u001b[0m\u001b[0mnp\u001b[0m\u001b[0;34m.\u001b[0m\u001b[0marray\u001b[0m\u001b[0;34m(\u001b[0m\u001b[0;34m[\u001b[0m\u001b[0;36m1\u001b[0m\u001b[0;34m,\u001b[0m\u001b[0;36m0\u001b[0m\u001b[0;34m,\u001b[0m\u001b[0;36m0\u001b[0m\u001b[0;34m]\u001b[0m\u001b[0;34m)\u001b[0m\u001b[0;34m)\u001b[0m\u001b[0;34m\u001b[0m\u001b[0m\n\u001b[1;32m     48\u001b[0m \u001b[0mprint\u001b[0m\u001b[0;34m(\u001b[0m\u001b[0mcpu\u001b[0m\u001b[0;34m.\u001b[0m\u001b[0mstore\u001b[0m\u001b[0;34m)\u001b[0m\u001b[0;34m\u001b[0m\u001b[0m\n",
      "\u001b[0;32m<ipython-input-7-cd778244d958>\u001b[0m in \u001b[0;36m__func\u001b[0;34m(*args, **kwargs)\u001b[0m\n\u001b[1;32m     15\u001b[0m     \u001b[0;32mdef\u001b[0m \u001b[0m__func\u001b[0m\u001b[0;34m(\u001b[0m\u001b[0;34m*\u001b[0m\u001b[0margs\u001b[0m\u001b[0;34m,\u001b[0m \u001b[0;34m**\u001b[0m\u001b[0mkwargs\u001b[0m\u001b[0;34m)\u001b[0m\u001b[0;34m:\u001b[0m\u001b[0;34m\u001b[0m\u001b[0m\n\u001b[1;32m     16\u001b[0m         \u001b[0mkwargs\u001b[0m\u001b[0;34m[\u001b[0m\u001b[0;34m'xp'\u001b[0m\u001b[0;34m]\u001b[0m \u001b[0;34m=\u001b[0m \u001b[0mcp\u001b[0m\u001b[0;34m.\u001b[0m\u001b[0mget_array_module\u001b[0m\u001b[0;34m(\u001b[0m\u001b[0margs\u001b[0m\u001b[0;34m[\u001b[0m\u001b[0;36m1\u001b[0m\u001b[0;34m]\u001b[0m\u001b[0;34m)\u001b[0m\u001b[0;34m\u001b[0m\u001b[0m\n\u001b[0;32m---> 17\u001b[0;31m         \u001b[0;32mreturn\u001b[0m \u001b[0mfunc\u001b[0m\u001b[0;34m(\u001b[0m\u001b[0margs\u001b[0m\u001b[0;34m,\u001b[0m \u001b[0mkwargs\u001b[0m\u001b[0;34m)\u001b[0m\u001b[0;34m\u001b[0m\u001b[0m\n\u001b[0m\u001b[1;32m     18\u001b[0m \u001b[0;34m\u001b[0m\u001b[0m\n\u001b[1;32m     19\u001b[0m     \u001b[0;32mreturn\u001b[0m \u001b[0m__func\u001b[0m\u001b[0;34m\u001b[0m\u001b[0m\n",
      "\u001b[0;32m<ipython-input-5-6e6f4744f342>\u001b[0m in \u001b[0;36madd\u001b[0;34m(self, x, xp)\u001b[0m\n\u001b[1;32m      5\u001b[0m     \u001b[0;32mdef\u001b[0m \u001b[0madd\u001b[0m\u001b[0;34m(\u001b[0m\u001b[0mself\u001b[0m\u001b[0;34m,\u001b[0m \u001b[0mx\u001b[0m\u001b[0;34m,\u001b[0m \u001b[0mxp\u001b[0m \u001b[0;34m=\u001b[0m \u001b[0mnp\u001b[0m\u001b[0;34m)\u001b[0m\u001b[0;34m:\u001b[0m\u001b[0;34m\u001b[0m\u001b[0m\n\u001b[1;32m      6\u001b[0m         \u001b[0mprint\u001b[0m\u001b[0;34m(\u001b[0m\u001b[0;34m\"add's xp is {}\"\u001b[0m\u001b[0;34m.\u001b[0m\u001b[0mformat\u001b[0m\u001b[0;34m(\u001b[0m\u001b[0mxp\u001b[0m\u001b[0;34m)\u001b[0m\u001b[0;34m)\u001b[0m\u001b[0;34m\u001b[0m\u001b[0m\n\u001b[0;32m----> 7\u001b[0;31m         \u001b[0mself\u001b[0m\u001b[0;34m.\u001b[0m\u001b[0mstore\u001b[0m \u001b[0;34m=\u001b[0m \u001b[0mxp\u001b[0m\u001b[0;34m.\u001b[0m\u001b[0madd\u001b[0m\u001b[0;34m(\u001b[0m\u001b[0mself\u001b[0m\u001b[0;34m.\u001b[0m\u001b[0mstore\u001b[0m\u001b[0;34m,\u001b[0m \u001b[0mx\u001b[0m\u001b[0;34m)\u001b[0m\u001b[0;34m\u001b[0m\u001b[0m\n\u001b[0m\u001b[1;32m      8\u001b[0m \u001b[0;34m\u001b[0m\u001b[0m\n\u001b[1;32m      9\u001b[0m     \u001b[0;32mdef\u001b[0m \u001b[0msub\u001b[0m\u001b[0;34m(\u001b[0m\u001b[0mself\u001b[0m\u001b[0;34m,\u001b[0m \u001b[0mx\u001b[0m\u001b[0;34m,\u001b[0m \u001b[0mxp\u001b[0m \u001b[0;34m=\u001b[0m \u001b[0mnp\u001b[0m\u001b[0;34m)\u001b[0m\u001b[0;34m:\u001b[0m\u001b[0;34m\u001b[0m\u001b[0m\n",
      "\u001b[0;31mAttributeError\u001b[0m: 'tuple' object has no attribute 'store'"
     ],
     "output_type": "error"
    }
   ],
   "source": [
    "import functools\n",
    "import types\n",
    "import inspect\n",
    "\n",
    "def cupy_decorator(func):\n",
    "    \"\"\"\n",
    "    数値演算関数の cupy/numpy 対応デコレーション.\n",
    "    第二引数が　numpy.ndarray であれば、可変引数 xp の numpy を指定します。\n",
    "    cupy.ndarray であれば、可変引数 xp に cupy を指定します。\n",
    "    ※ 第一引数は self です\n",
    "    :param func: function \n",
    "    :return: cupy対応\n",
    "    \"\"\"\n",
    "    @functools.wraps(func)\n",
    "    def __func(*args, **kwargs):\n",
    "        kwargs['xp'] = cp.get_array_module(args[1])\n",
    "        return func(*args, **kwargs)\n",
    "    \n",
    "    return __func\n",
    "\n",
    "\n",
    "def GPU(clazz):\n",
    "    \"\"\"\n",
    "    引数に xp を持つ function を cupy_decorator で デコレートする \n",
    "    :param clazz: クラス\n",
    "    :return: 処理済みクラス\n",
    "    \"\"\"\n",
    "    for property_name in dir(clazz):\n",
    "        attr = getattr(clazz, property_name)\n",
    "        if type(attr) is not types.FunctionType:\n",
    "            continue\n",
    "\n",
    "        args = inspect.signature(attr).parameters.keys()\n",
    "        if 'xp' in args :\n",
    "            setattr(clazz, property_name, cupy_decorator(attr))\n",
    "            \n",
    "    return clazz\n",
    "\n",
    "\n",
    "@GPU\n",
    "class GPUClass(BaseClass):\n",
    "    pass\n",
    "\n",
    "# 引数が numpy.ndarray の場合は numpy が使われる\n",
    "cpu = GPUClass(np.array([1,2,3]))\n",
    "cpu.add(np.array([0,0,1]))\n",
    "cpu.sub(np.array([1,0,0]))\n",
    "print(cpu.store)\n",
    "\n",
    "# 引数が cupy.ndarray の場合は cupy が使われる\n",
    "gpu = GPUClass(cp.array([1,2,3]))\n",
    "gpu.add(cp.array([0,0,1]))\n",
    "gpu.sub(cp.array([1,0,0]))\n",
    "print(gpu.store.get())"
   ]
  },
  {
   "cell_type": "code",
   "execution_count": null,
   "metadata": {},
   "outputs": [],
   "source": []
  }
 ],
 "metadata": {
  "kernelspec": {
   "display_name": "Python 3",
   "language": "python",
   "name": "python3"
  },
  "language_info": {
   "codemirror_mode": {
    "name": "ipython",
    "version": 3
   },
   "file_extension": ".py",
   "mimetype": "text/x-python",
   "name": "python",
   "nbconvert_exporter": "python",
   "pygments_lexer": "ipython3",
   "version": "3.6.5"
  }
 },
 "nbformat": 4,
 "nbformat_minor": 1
}
